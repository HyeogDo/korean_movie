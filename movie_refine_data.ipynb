{
 "cells": [
  {
   "cell_type": "markdown",
   "metadata": {},
   "source": [
    "# 데이터 정제"
   ]
  },
  {
   "cell_type": "code",
   "execution_count": 1,
   "metadata": {},
   "outputs": [],
   "source": [
    "import numpy as np\n",
    "import pandas as pd"
   ]
  },
  {
   "cell_type": "code",
   "execution_count": 2,
   "metadata": {},
   "outputs": [
    {
     "data": {
      "text/html": [
       "<div>\n",
       "<style scoped>\n",
       "    .dataframe tbody tr th:only-of-type {\n",
       "        vertical-align: middle;\n",
       "    }\n",
       "\n",
       "    .dataframe tbody tr th {\n",
       "        vertical-align: top;\n",
       "    }\n",
       "\n",
       "    .dataframe thead th {\n",
       "        text-align: right;\n",
       "    }\n",
       "</style>\n",
       "<table border=\"1\" class=\"dataframe\">\n",
       "  <thead>\n",
       "    <tr style=\"text-align: right;\">\n",
       "      <th></th>\n",
       "      <th>영화명</th>\n",
       "      <th>개봉일</th>\n",
       "      <th>매출액</th>\n",
       "      <th>관객수</th>\n",
       "      <th>스크린수</th>\n",
       "      <th>배급사</th>\n",
       "    </tr>\n",
       "  </thead>\n",
       "  <tbody>\n",
       "    <tr>\n",
       "      <th>0</th>\n",
       "      <td>명량</td>\n",
       "      <td>2014-07-30</td>\n",
       "      <td>135748398910</td>\n",
       "      <td>17613682</td>\n",
       "      <td>1587</td>\n",
       "      <td>(주)씨제이이엔엠</td>\n",
       "    </tr>\n",
       "    <tr>\n",
       "      <th>1</th>\n",
       "      <td>극한직업</td>\n",
       "      <td>2019-01-23</td>\n",
       "      <td>139651845516</td>\n",
       "      <td>16265618</td>\n",
       "      <td>2003</td>\n",
       "      <td>(주)씨제이이엔엠</td>\n",
       "    </tr>\n",
       "    <tr>\n",
       "      <th>2</th>\n",
       "      <td>베테랑</td>\n",
       "      <td>2015-08-05</td>\n",
       "      <td>105168155250</td>\n",
       "      <td>13414009</td>\n",
       "      <td>1115</td>\n",
       "      <td>(주)씨제이이엔엠</td>\n",
       "    </tr>\n",
       "    <tr>\n",
       "      <th>3</th>\n",
       "      <td>도둑들</td>\n",
       "      <td>2012-07-25</td>\n",
       "      <td>93664808500</td>\n",
       "      <td>12983178</td>\n",
       "      <td>1091</td>\n",
       "      <td>(주)쇼박스</td>\n",
       "    </tr>\n",
       "    <tr>\n",
       "      <th>4</th>\n",
       "      <td>7번방의 선물</td>\n",
       "      <td>2013-01-23</td>\n",
       "      <td>91431914670</td>\n",
       "      <td>12811206</td>\n",
       "      <td>866</td>\n",
       "      <td>(주)넥스트엔터테인먼트월드(NEW)</td>\n",
       "    </tr>\n",
       "  </tbody>\n",
       "</table>\n",
       "</div>"
      ],
      "text/plain": [
       "       영화명         개봉일           매출액       관객수  스크린수                  배급사\n",
       "0       명량  2014-07-30  135748398910  17613682  1587            (주)씨제이이엔엠\n",
       "1     극한직업  2019-01-23  139651845516  16265618  2003            (주)씨제이이엔엠\n",
       "2      베테랑  2015-08-05  105168155250  13414009  1115            (주)씨제이이엔엠\n",
       "3      도둑들  2012-07-25   93664808500  12983178  1091               (주)쇼박스\n",
       "4  7번방의 선물  2013-01-23   91431914670  12811206   866  (주)넥스트엔터테인먼트월드(NEW)"
      ]
     },
     "execution_count": 2,
     "metadata": {},
     "output_type": "execute_result"
    }
   ],
   "source": [
    "df = pd.read_csv(\"./data/boxoffice_base.csv\")\n",
    "df.head()"
   ]
  },
  {
   "cell_type": "code",
   "execution_count": 3,
   "metadata": {},
   "outputs": [
    {
     "data": {
      "text/html": [
       "<div>\n",
       "<style scoped>\n",
       "    .dataframe tbody tr th:only-of-type {\n",
       "        vertical-align: middle;\n",
       "    }\n",
       "\n",
       "    .dataframe tbody tr th {\n",
       "        vertical-align: top;\n",
       "    }\n",
       "\n",
       "    .dataframe thead th {\n",
       "        text-align: right;\n",
       "    }\n",
       "</style>\n",
       "<table border=\"1\" class=\"dataframe\">\n",
       "  <thead>\n",
       "    <tr style=\"text-align: right;\">\n",
       "      <th></th>\n",
       "      <th>영화명</th>\n",
       "      <th>개봉일</th>\n",
       "      <th>매출액</th>\n",
       "      <th>관객수</th>\n",
       "      <th>스크린수</th>\n",
       "      <th>배급사</th>\n",
       "    </tr>\n",
       "  </thead>\n",
       "  <tbody>\n",
       "    <tr>\n",
       "      <th>2425</th>\n",
       "      <td>수상한 종업원(무삭제판)</td>\n",
       "      <td>2018-05-29</td>\n",
       "      <td>5000</td>\n",
       "      <td>1</td>\n",
       "      <td>1</td>\n",
       "      <td>(주)가온콘텐츠</td>\n",
       "    </tr>\n",
       "    <tr>\n",
       "      <th>2426</th>\n",
       "      <td>신입사원(무삭제판)</td>\n",
       "      <td>2018-05-15</td>\n",
       "      <td>5000</td>\n",
       "      <td>1</td>\n",
       "      <td>1</td>\n",
       "      <td>(주)가온콘텐츠</td>\n",
       "    </tr>\n",
       "    <tr>\n",
       "      <th>2427</th>\n",
       "      <td>중독: 관음증-무삭제판</td>\n",
       "      <td>2019-02-20</td>\n",
       "      <td>1000</td>\n",
       "      <td>1</td>\n",
       "      <td>1</td>\n",
       "      <td>(주)케이알씨지</td>\n",
       "    </tr>\n",
       "    <tr>\n",
       "      <th>2428</th>\n",
       "      <td>스피릿 오브 베토벤</td>\n",
       "      <td>2014-12-10</td>\n",
       "      <td>0</td>\n",
       "      <td>0</td>\n",
       "      <td>1</td>\n",
       "      <td>(주)한경아르떼</td>\n",
       "    </tr>\n",
       "    <tr>\n",
       "      <th>2429</th>\n",
       "      <td>호두까기 인형</td>\n",
       "      <td>2014-12-07</td>\n",
       "      <td>0</td>\n",
       "      <td>0</td>\n",
       "      <td>1</td>\n",
       "      <td>(주)패뷸러스</td>\n",
       "    </tr>\n",
       "  </tbody>\n",
       "</table>\n",
       "</div>"
      ],
      "text/plain": [
       "                영화명         개봉일   매출액  관객수  스크린수       배급사\n",
       "2425  수상한 종업원(무삭제판)  2018-05-29  5000    1     1  (주)가온콘텐츠\n",
       "2426     신입사원(무삭제판)  2018-05-15  5000    1     1  (주)가온콘텐츠\n",
       "2427   중독: 관음증-무삭제판  2019-02-20  1000    1     1  (주)케이알씨지\n",
       "2428     스피릿 오브 베토벤  2014-12-10     0    0     1  (주)한경아르떼\n",
       "2429        호두까기 인형  2014-12-07     0    0     1   (주)패뷸러스"
      ]
     },
     "execution_count": 3,
     "metadata": {},
     "output_type": "execute_result"
    }
   ],
   "source": [
    "df.tail()"
   ]
  },
  {
   "cell_type": "code",
   "execution_count": 4,
   "metadata": {},
   "outputs": [
    {
     "name": "stdout",
     "output_type": "stream",
     "text": [
      "<class 'pandas.core.frame.DataFrame'>\n",
      "RangeIndex: 2430 entries, 0 to 2429\n",
      "Data columns (total 6 columns):\n",
      " #   Column  Non-Null Count  Dtype \n",
      "---  ------  --------------  ----- \n",
      " 0   영화명     2430 non-null   object\n",
      " 1   개봉일     2430 non-null   object\n",
      " 2   매출액     2430 non-null   int64 \n",
      " 3   관객수     2430 non-null   int64 \n",
      " 4   스크린수    2430 non-null   int64 \n",
      " 5   배급사     2430 non-null   object\n",
      "dtypes: int64(3), object(3)\n",
      "memory usage: 114.0+ KB\n"
     ]
    }
   ],
   "source": [
    "df.info()"
   ]
  },
  {
   "cell_type": "code",
   "execution_count": 10,
   "metadata": {},
   "outputs": [
    {
     "name": "stdout",
     "output_type": "stream",
     "text": [
      "<class 'pandas.core.frame.DataFrame'>\n",
      "Int64Index: 274 entries, 0 to 273\n",
      "Data columns (total 6 columns):\n",
      " #   Column  Non-Null Count  Dtype \n",
      "---  ------  --------------  ----- \n",
      " 0   영화명     274 non-null    object\n",
      " 1   개봉일     274 non-null    object\n",
      " 2   매출액     274 non-null    int64 \n",
      " 3   관객수     274 non-null    int64 \n",
      " 4   스크린수    274 non-null    int64 \n",
      " 5   배급사     274 non-null    object\n",
      "dtypes: int64(3), object(3)\n",
      "memory usage: 15.0+ KB\n"
     ]
    }
   ],
   "source": [
    "# 관객수 100만 밑으로는 실질적으로 영화의 흥행에 영향을 주는 요소가 존재하지 않는다는 가정\n",
    "df_over100 = df[df[\"관객수\"] > 1000000]\n",
    "df_over100.info()\n",
    "df_over100.to_csv(\"./data/boxoffice_over100.csv\", index=False)"
   ]
  },
  {
   "cell_type": "code",
   "execution_count": 9,
   "metadata": {},
   "outputs": [
    {
     "data": {
      "text/plain": [
       "0                    명량\n",
       "1                  극한직업\n",
       "2                   베테랑\n",
       "3                   도둑들\n",
       "4               7번방의 선물\n",
       "             ...       \n",
       "269                그놈이다\n",
       "270              오직 그대만\n",
       "271             파괴된 사나이\n",
       "272    가문의 영광5 - 가문의 귀환\n",
       "273              심장이 뛴다\n",
       "Name: 영화명, Length: 274, dtype: object"
      ]
     },
     "execution_count": 9,
     "metadata": {},
     "output_type": "execute_result"
    }
   ],
   "source": [
    "df_over100[\"영화명\"]"
   ]
  },
  {
   "cell_type": "code",
   "execution_count": null,
   "metadata": {},
   "outputs": [],
   "source": [
    "# 기본적인 컬럼 수가 너무 부족함 --> 영화 진흥위원회 API를 통한 감독, 주연, 조연 배우, 스크린 점유율 받아오거나 영화사이트에서 크롤링 해오기\n",
    "# 필요한 컬럼 : 감독, 주연, 조연, 장르\n",
    "# 리뷰 크롤링을 통한 감정 분석 --> 한글 감정분석 패키지가 있나?"
   ]
  },
  {
   "cell_type": "code",
   "execution_count": null,
   "metadata": {},
   "outputs": [],
   "source": []
  }
 ],
 "metadata": {
  "kernelspec": {
   "display_name": "Python 3.9.12 ('PythonBase')",
   "language": "python",
   "name": "python3"
  },
  "language_info": {
   "codemirror_mode": {
    "name": "ipython",
    "version": 3
   },
   "file_extension": ".py",
   "mimetype": "text/x-python",
   "name": "python",
   "nbconvert_exporter": "python",
   "pygments_lexer": "ipython3",
   "version": "3.9.12"
  },
  "orig_nbformat": 4,
  "vscode": {
   "interpreter": {
    "hash": "ca6d4ad439febf6877c498a04ff333ccbf58ec4fc9843407e6c552f7ded7575f"
   }
  }
 },
 "nbformat": 4,
 "nbformat_minor": 2
}
