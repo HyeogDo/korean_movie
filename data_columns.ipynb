{
 "cells": [
  {
   "cell_type": "markdown",
   "metadata": {},
   "source": [
    "# Data 컬럼 분석"
   ]
  },
  {
   "cell_type": "code",
   "execution_count": 1,
   "metadata": {},
   "outputs": [],
   "source": [
    "import numpy as np\n",
    "import pandas as pd\n",
    "import seaborn as sns"
   ]
  },
  {
   "cell_type": "code",
   "execution_count": 2,
   "metadata": {},
   "outputs": [
    {
     "name": "stdout",
     "output_type": "stream",
     "text": [
      "<class 'pandas.core.frame.DataFrame'>\n",
      "RangeIndex: 274 entries, 0 to 273\n",
      "Data columns (total 6 columns):\n",
      " #   Column  Non-Null Count  Dtype \n",
      "---  ------  --------------  ----- \n",
      " 0   영화명     274 non-null    object\n",
      " 1   개봉일     274 non-null    object\n",
      " 2   매출액     274 non-null    int64 \n",
      " 3   관객수     274 non-null    int64 \n",
      " 4   스크린수    274 non-null    int64 \n",
      " 5   배급사     274 non-null    object\n",
      "dtypes: int64(3), object(3)\n",
      "memory usage: 13.0+ KB\n"
     ]
    }
   ],
   "source": [
    "df = pd.read_csv(\"./boxofficeFiles/boxoffice_over100.csv\")\n",
    "df.info()"
   ]
  },
  {
   "cell_type": "code",
   "execution_count": 3,
   "metadata": {},
   "outputs": [],
   "source": [
    "df[\"개봉월\"] = 0\n",
    "for i in range(len(df)):\n",
    "    df.loc[i,\"개봉월\"] = int(df.loc[i,\"개봉일\"].split(\"-\")[1])"
   ]
  },
  {
   "cell_type": "code",
   "execution_count": 7,
   "metadata": {},
   "outputs": [
    {
     "data": {
      "text/html": [
       "<div>\n",
       "<style scoped>\n",
       "    .dataframe tbody tr th:only-of-type {\n",
       "        vertical-align: middle;\n",
       "    }\n",
       "\n",
       "    .dataframe tbody tr th {\n",
       "        vertical-align: top;\n",
       "    }\n",
       "\n",
       "    .dataframe thead th {\n",
       "        text-align: right;\n",
       "    }\n",
       "</style>\n",
       "<table border=\"1\" class=\"dataframe\">\n",
       "  <thead>\n",
       "    <tr style=\"text-align: right;\">\n",
       "      <th></th>\n",
       "      <th>영화명</th>\n",
       "      <th>개봉일</th>\n",
       "      <th>매출액</th>\n",
       "      <th>관객수</th>\n",
       "      <th>스크린수</th>\n",
       "      <th>배급사</th>\n",
       "      <th>개봉월</th>\n",
       "    </tr>\n",
       "  </thead>\n",
       "  <tbody>\n",
       "    <tr>\n",
       "      <th>0</th>\n",
       "      <td>명량</td>\n",
       "      <td>2014-07-30</td>\n",
       "      <td>135748398910</td>\n",
       "      <td>17613682</td>\n",
       "      <td>1587</td>\n",
       "      <td>(주)씨제이이엔엠</td>\n",
       "      <td>7</td>\n",
       "    </tr>\n",
       "    <tr>\n",
       "      <th>1</th>\n",
       "      <td>극한직업</td>\n",
       "      <td>2019-01-23</td>\n",
       "      <td>139651845516</td>\n",
       "      <td>16265618</td>\n",
       "      <td>2003</td>\n",
       "      <td>(주)씨제이이엔엠</td>\n",
       "      <td>1</td>\n",
       "    </tr>\n",
       "    <tr>\n",
       "      <th>2</th>\n",
       "      <td>베테랑</td>\n",
       "      <td>2015-08-05</td>\n",
       "      <td>105168155250</td>\n",
       "      <td>13414009</td>\n",
       "      <td>1115</td>\n",
       "      <td>(주)씨제이이엔엠</td>\n",
       "      <td>8</td>\n",
       "    </tr>\n",
       "    <tr>\n",
       "      <th>3</th>\n",
       "      <td>도둑들</td>\n",
       "      <td>2012-07-25</td>\n",
       "      <td>93664808500</td>\n",
       "      <td>12983178</td>\n",
       "      <td>1091</td>\n",
       "      <td>(주)쇼박스</td>\n",
       "      <td>7</td>\n",
       "    </tr>\n",
       "    <tr>\n",
       "      <th>4</th>\n",
       "      <td>7번방의 선물</td>\n",
       "      <td>2013-01-23</td>\n",
       "      <td>91431914670</td>\n",
       "      <td>12811206</td>\n",
       "      <td>866</td>\n",
       "      <td>(주)넥스트엔터테인먼트월드(NEW)</td>\n",
       "      <td>1</td>\n",
       "    </tr>\n",
       "    <tr>\n",
       "      <th>5</th>\n",
       "      <td>암살</td>\n",
       "      <td>2015-07-22</td>\n",
       "      <td>98463132781</td>\n",
       "      <td>12705700</td>\n",
       "      <td>1519</td>\n",
       "      <td>(주)쇼박스</td>\n",
       "      <td>7</td>\n",
       "    </tr>\n",
       "    <tr>\n",
       "      <th>6</th>\n",
       "      <td>광해, 왕이 된 남자</td>\n",
       "      <td>2012-09-13</td>\n",
       "      <td>88899448769</td>\n",
       "      <td>12319390</td>\n",
       "      <td>1001</td>\n",
       "      <td>(주)씨제이이엔엠</td>\n",
       "      <td>9</td>\n",
       "    </tr>\n",
       "    <tr>\n",
       "      <th>7</th>\n",
       "      <td>신과함께-인과 연</td>\n",
       "      <td>2018-08-01</td>\n",
       "      <td>102666146909</td>\n",
       "      <td>12274996</td>\n",
       "      <td>2235</td>\n",
       "      <td>롯데컬처웍스(주)롯데엔터테인먼트</td>\n",
       "      <td>8</td>\n",
       "    </tr>\n",
       "    <tr>\n",
       "      <th>8</th>\n",
       "      <td>택시운전사</td>\n",
       "      <td>2017-08-02</td>\n",
       "      <td>95853645649</td>\n",
       "      <td>12186327</td>\n",
       "      <td>1906</td>\n",
       "      <td>(주)쇼박스</td>\n",
       "      <td>8</td>\n",
       "    </tr>\n",
       "    <tr>\n",
       "      <th>9</th>\n",
       "      <td>부산행</td>\n",
       "      <td>2016-07-20</td>\n",
       "      <td>93178283048</td>\n",
       "      <td>11565479</td>\n",
       "      <td>1788</td>\n",
       "      <td>(주)넥스트엔터테인먼트월드(NEW)</td>\n",
       "      <td>7</td>\n",
       "    </tr>\n",
       "    <tr>\n",
       "      <th>10</th>\n",
       "      <td>기생충</td>\n",
       "      <td>2019-05-30</td>\n",
       "      <td>85883963645</td>\n",
       "      <td>10085275</td>\n",
       "      <td>1948</td>\n",
       "      <td>(주)씨제이이엔엠</td>\n",
       "      <td>5</td>\n",
       "    </tr>\n",
       "  </tbody>\n",
       "</table>\n",
       "</div>"
      ],
      "text/plain": [
       "            영화명         개봉일           매출액       관객수  스크린수  \\\n",
       "0            명량  2014-07-30  135748398910  17613682  1587   \n",
       "1          극한직업  2019-01-23  139651845516  16265618  2003   \n",
       "2           베테랑  2015-08-05  105168155250  13414009  1115   \n",
       "3           도둑들  2012-07-25   93664808500  12983178  1091   \n",
       "4       7번방의 선물  2013-01-23   91431914670  12811206   866   \n",
       "5            암살  2015-07-22   98463132781  12705700  1519   \n",
       "6   광해, 왕이 된 남자  2012-09-13   88899448769  12319390  1001   \n",
       "7     신과함께-인과 연  2018-08-01  102666146909  12274996  2235   \n",
       "8         택시운전사  2017-08-02   95853645649  12186327  1906   \n",
       "9           부산행  2016-07-20   93178283048  11565479  1788   \n",
       "10          기생충  2019-05-30   85883963645  10085275  1948   \n",
       "\n",
       "                    배급사  개봉월  \n",
       "0             (주)씨제이이엔엠    7  \n",
       "1             (주)씨제이이엔엠    1  \n",
       "2             (주)씨제이이엔엠    8  \n",
       "3                (주)쇼박스    7  \n",
       "4   (주)넥스트엔터테인먼트월드(NEW)    1  \n",
       "5                (주)쇼박스    7  \n",
       "6             (주)씨제이이엔엠    9  \n",
       "7     롯데컬처웍스(주)롯데엔터테인먼트    8  \n",
       "8                (주)쇼박스    8  \n",
       "9   (주)넥스트엔터테인먼트월드(NEW)    7  \n",
       "10            (주)씨제이이엔엠    5  "
      ]
     },
     "execution_count": 7,
     "metadata": {},
     "output_type": "execute_result"
    }
   ],
   "source": [
    "df.loc[0:10,]"
   ]
  },
  {
   "cell_type": "code",
   "execution_count": null,
   "metadata": {},
   "outputs": [],
   "source": []
  },
  {
   "cell_type": "code",
   "execution_count": null,
   "metadata": {},
   "outputs": [],
   "source": []
  },
  {
   "cell_type": "code",
   "execution_count": null,
   "metadata": {},
   "outputs": [],
   "source": []
  }
 ],
 "metadata": {
  "kernelspec": {
   "display_name": "Python 3.9.12 ('PythonBase')",
   "language": "python",
   "name": "python3"
  },
  "language_info": {
   "codemirror_mode": {
    "name": "ipython",
    "version": 3
   },
   "file_extension": ".py",
   "mimetype": "text/x-python",
   "name": "python",
   "nbconvert_exporter": "python",
   "pygments_lexer": "ipython3",
   "version": "3.9.12"
  },
  "orig_nbformat": 4,
  "vscode": {
   "interpreter": {
    "hash": "ca6d4ad439febf6877c498a04ff333ccbf58ec4fc9843407e6c552f7ded7575f"
   }
  }
 },
 "nbformat": 4,
 "nbformat_minor": 2
}
