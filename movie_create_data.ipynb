{
 "cells": [
  {
   "cell_type": "markdown",
   "metadata": {},
   "source": [
    "# html 파일 정제 후 사용가능한 데이터 프레임으로 제작"
   ]
  },
  {
   "cell_type": "code",
   "execution_count": 1,
   "metadata": {},
   "outputs": [],
   "source": [
    "import numpy as np\n",
    "import pandas as pd"
   ]
  },
  {
   "cell_type": "code",
   "execution_count": 2,
   "metadata": {},
   "outputs": [],
   "source": [
    "# html 파일은 lxml이라는 패키지가 필요함 -> python3의 경우 pip3로 다운받아야 에러가 안뜸\n",
    "#!pip3 install lxml"
   ]
  },
  {
   "cell_type": "code",
   "execution_count": 2,
   "metadata": {},
   "outputs": [],
   "source": [
    "# 결과물 데이터 프레임\n",
    "result = pd.DataFrame()\n",
    "# 년도 설정\n",
    "years = np.arange(2010, 2020)"
   ]
  },
  {
   "cell_type": "code",
   "execution_count": 3,
   "metadata": {},
   "outputs": [
    {
     "name": "stdout",
     "output_type": "stream",
     "text": [
      "0\n",
      "2010 clear\n",
      "0\n",
      "2011 clear\n",
      "0\n",
      "2012 clear\n",
      "0\n",
      "2013 clear\n",
      "0\n",
      "2014 clear\n",
      "0\n",
      "2015 clear\n",
      "0\n",
      "2016 clear\n",
      "0\n",
      "2017 clear\n",
      "0\n",
      "2018 clear\n",
      "0\n",
      "2019 clear\n"
     ]
    }
   ],
   "source": [
    "for year in years:\n",
    "    # 파일 불러오기\n",
    "    df = pd.read_html(f\"./boxofficeFiles/boxoffice_{year}.html\", encoding=\"utf-8\")\n",
    "    df = df[1]\n",
    "\n",
    "    # na값 제외하기\n",
    "    for col in df.columns:\n",
    "        df = df.drop(df[df[col].isna()].index)\n",
    "    print(df.isna().sum().sum())\n",
    "    df.reset_index(drop=True, inplace=True)\n",
    "\n",
    "    # 년도별 박스오피스에는 해당 년도의 영화를 제외한 영화들도 포함되어 있음(재개봉 혹은 기타 사유로) 이는 제외\n",
    "    # 전년도 12월 ~ 다음년도 1월 사이의 개봉일을 제외하고 나머지 개봉일들은 삭제하기\n",
    "    drop_index = []\n",
    "    for i in range(len(df)):\n",
    "        if ((int(df.loc[i,\"개봉일\"].split(\"-\")[0]) > (year + 1)) | (int(df.loc[i,\"개봉일\"].split(\"-\")[0]) < (year - 1))) | (\n",
    "            ((int(df.loc[i,\"개봉일\"].split(\"-\")[0]) == (year - 1)) & (int(df.loc[i,\"개봉일\"].split(\"-\")[1]) < 12)) | \\\n",
    "                ((int(df.loc[i,\"개봉일\"].split(\"-\")[0]) == (year + 1)) & (int(df.loc[i,\"개봉일\"].split(\"-\")[1]) > 1))\n",
    "        ):\n",
    "            drop_index.append(i)\n",
    "    df.drop(drop_index, inplace=True)\n",
    "    df.reset_index(drop=True, inplace=True)\n",
    "\n",
    "    # 최종 데이터셋에 합치기\n",
    "    result = pd.concat([result, df])\n",
    "    print(f\"{year} clear\")"
   ]
  },
  {
   "cell_type": "code",
   "execution_count": 4,
   "metadata": {},
   "outputs": [],
   "source": [
    "# 중복되거나 사용가치가 없는 Columns 제거\n",
    "result.drop([\"순위\", \"매출액 점유율\", \"상영횟수\", \"대표국적\", \"국적\"], axis=1, inplace = True)"
   ]
  },
  {
   "cell_type": "code",
   "execution_count": 6,
   "metadata": {},
   "outputs": [],
   "source": [
    "# 관객수에 따라 정렬\n",
    "result.sort_values(\"관객수\", ascending=False, inplace=True)"
   ]
  },
  {
   "cell_type": "code",
   "execution_count": 7,
   "metadata": {},
   "outputs": [],
   "source": [
    "# 결과파일로 저장하기\n",
    "result.to_csv(\"./boxofficeFiles/boxoffice_base.csv\", index=False)"
   ]
  }
 ],
 "metadata": {
  "kernelspec": {
   "display_name": "Python 3.9.12 ('PythonBase')",
   "language": "python",
   "name": "python3"
  },
  "language_info": {
   "codemirror_mode": {
    "name": "ipython",
    "version": 3
   },
   "file_extension": ".py",
   "mimetype": "text/x-python",
   "name": "python",
   "nbconvert_exporter": "python",
   "pygments_lexer": "ipython3",
   "version": "3.9.12"
  },
  "orig_nbformat": 4,
  "vscode": {
   "interpreter": {
    "hash": "ca6d4ad439febf6877c498a04ff333ccbf58ec4fc9843407e6c552f7ded7575f"
   }
  }
 },
 "nbformat": 4,
 "nbformat_minor": 2
}
