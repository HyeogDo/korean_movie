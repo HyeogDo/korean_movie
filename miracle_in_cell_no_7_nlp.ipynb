{
 "cells": [
  {
   "cell_type": "markdown",
   "metadata": {},
   "source": [
    "# 스크래파이 해온 리뷰들을 자연어 처리를 통해 분석"
   ]
  },
  {
   "cell_type": "code",
   "execution_count": 1,
   "metadata": {},
   "outputs": [],
   "source": [
    "import pandas as pd\n",
    "import numpy as np\n",
    "import matplotlib.pyplot as plt\n",
    "import seaborn as sns\n",
    "from konlpy.tag import Kkma, Hannanum, Okt"
   ]
  },
  {
   "cell_type": "code",
   "execution_count": 2,
   "metadata": {},
   "outputs": [],
   "source": [
    "Kkma = Kkma()"
   ]
  },
  {
   "cell_type": "code",
   "execution_count": 3,
   "metadata": {},
   "outputs": [
    {
     "data": {
      "text/html": [
       "<div>\n",
       "<style scoped>\n",
       "    .dataframe tbody tr th:only-of-type {\n",
       "        vertical-align: middle;\n",
       "    }\n",
       "\n",
       "    .dataframe tbody tr th {\n",
       "        vertical-align: top;\n",
       "    }\n",
       "\n",
       "    .dataframe thead th {\n",
       "        text-align: right;\n",
       "    }\n",
       "</style>\n",
       "<table border=\"1\" class=\"dataframe\">\n",
       "  <thead>\n",
       "    <tr style=\"text-align: right;\">\n",
       "      <th></th>\n",
       "      <th>평점</th>\n",
       "      <th>내용</th>\n",
       "    </tr>\n",
       "  </thead>\n",
       "  <tbody>\n",
       "    <tr>\n",
       "      <th>0</th>\n",
       "      <td>10</td>\n",
       "      <td>영화는 뻔했고 설정은 억지였다 하지만 그걸 살려낸 배우들이 대단한영화.  그중심엔 ...</td>\n",
       "    </tr>\n",
       "    <tr>\n",
       "      <th>1</th>\n",
       "      <td>7</td>\n",
       "      <td>천만영화의 부끄러운 실체. 배우들간의 앙상블은 훌륭했으나 작위적이고 평면적인 스토리...</td>\n",
       "    </tr>\n",
       "    <tr>\n",
       "      <th>2</th>\n",
       "      <td>7</td>\n",
       "      <td>천만관객을 끌어모은 것은 오직 배우들의 힘.</td>\n",
       "    </tr>\n",
       "    <tr>\n",
       "      <th>3</th>\n",
       "      <td>8</td>\n",
       "      <td>뜬금없는 열기구...</td>\n",
       "    </tr>\n",
       "    <tr>\n",
       "      <th>4</th>\n",
       "      <td>10</td>\n",
       "      <td>연기 정말 장난아님</td>\n",
       "    </tr>\n",
       "  </tbody>\n",
       "</table>\n",
       "</div>"
      ],
      "text/plain": [
       "   평점                                                 내용\n",
       "0  10  영화는 뻔했고 설정은 억지였다 하지만 그걸 살려낸 배우들이 대단한영화.  그중심엔 ...\n",
       "1   7  천만영화의 부끄러운 실체. 배우들간의 앙상블은 훌륭했으나 작위적이고 평면적인 스토리...\n",
       "2   7                           천만관객을 끌어모은 것은 오직 배우들의 힘.\n",
       "3   8                                        뜬금없는 열기구...\n",
       "4  10                                         연기 정말 장난아님"
      ]
     },
     "execution_count": 3,
     "metadata": {},
     "output_type": "execute_result"
    }
   ],
   "source": [
    "reviews = pd.read_csv(\"./data/reviews.csv\")\n",
    "reviews.head()"
   ]
  },
  {
   "cell_type": "code",
   "execution_count": 4,
   "metadata": {},
   "outputs": [
    {
     "name": "stdout",
     "output_type": "stream",
     "text": [
      "<class 'pandas.core.frame.DataFrame'>\n",
      "RangeIndex: 44492 entries, 0 to 44491\n",
      "Data columns (total 2 columns):\n",
      " #   Column  Non-Null Count  Dtype \n",
      "---  ------  --------------  ----- \n",
      " 0   평점      44492 non-null  int64 \n",
      " 1   내용      44431 non-null  object\n",
      "dtypes: int64(1), object(1)\n",
      "memory usage: 695.3+ KB\n"
     ]
    }
   ],
   "source": [
    "reviews.info()"
   ]
  },
  {
   "cell_type": "code",
   "execution_count": 5,
   "metadata": {},
   "outputs": [],
   "source": [
    "drop_index = reviews[reviews[\"내용\"].isna()].index\n",
    "reviews.drop(drop_index, inplace=True)"
   ]
  },
  {
   "cell_type": "code",
   "execution_count": 6,
   "metadata": {},
   "outputs": [
    {
     "data": {
      "text/plain": [
       "['영화', '설정', '억지', '그것', '배우', '중심', '류', '류승룡', '승', '룡']"
      ]
     },
     "execution_count": 6,
     "metadata": {},
     "output_type": "execute_result"
    }
   ],
   "source": [
    "Kkma.nouns(reviews.loc[0,\"내용\"])"
   ]
  },
  {
   "cell_type": "code",
   "execution_count": 7,
   "metadata": {},
   "outputs": [
    {
     "data": {
      "text/plain": [
       "[('영화', 'NNG'),\n",
       " ('는', 'JX'),\n",
       " ('뻔하', 'VA'),\n",
       " ('었', 'EPT'),\n",
       " ('고', 'ECE'),\n",
       " ('설정', 'NNG'),\n",
       " ('은', 'JX'),\n",
       " ('억지', 'NNG'),\n",
       " ('이', 'VCP'),\n",
       " ('었', 'EPT'),\n",
       " ('다', 'ECS'),\n",
       " ('하지만', 'MAC'),\n",
       " ('그것', 'NP'),\n",
       " ('을', 'JKO'),\n",
       " ('살리', 'VV'),\n",
       " ('어', 'ECS'),\n",
       " ('내', 'VXV'),\n",
       " ('ㄴ', 'ETD'),\n",
       " ('배우', 'NNG'),\n",
       " ('들', 'XSN'),\n",
       " ('이', 'JKS'),\n",
       " ('대단', 'XR'),\n",
       " ('하', 'XSA'),\n",
       " ('ㄴ', 'ETD'),\n",
       " ('영화', 'NNG'),\n",
       " ('.', 'SF'),\n",
       " ('그', 'MDT'),\n",
       " ('중심', 'NNG'),\n",
       " ('에', 'JKM'),\n",
       " ('는', 'JX'),\n",
       " ('류', 'NNG'),\n",
       " ('승', 'NNG'),\n",
       " ('룡', 'UN'),\n",
       " ('이', 'JKS'),\n",
       " ('있', 'VV'),\n",
       " ('었', 'EPT'),\n",
       " ('다', 'EFN')]"
      ]
     },
     "execution_count": 7,
     "metadata": {},
     "output_type": "execute_result"
    }
   ],
   "source": [
    "Kkma.pos(reviews.loc[0,\"내용\"])"
   ]
  },
  {
   "cell_type": "code",
   "execution_count": 8,
   "metadata": {},
   "outputs": [
    {
     "data": {
      "text/plain": [
       "['영화', '설정', '억지', '그것', '배우', '중심', '류', '류승룡', '승', '룡']"
      ]
     },
     "execution_count": 8,
     "metadata": {},
     "output_type": "execute_result"
    }
   ],
   "source": [
    "Kkma.nouns(reviews.loc[0, \"내용\"])"
   ]
  },
  {
   "cell_type": "code",
   "execution_count": 9,
   "metadata": {},
   "outputs": [],
   "source": [
    "reviews.reset_index(drop=True, inplace=True)"
   ]
  },
  {
   "cell_type": "code",
   "execution_count": 10,
   "metadata": {},
   "outputs": [
    {
     "name": "stdout",
     "output_type": "stream",
     "text": [
      "10\n"
     ]
    }
   ],
   "source": [
    "print(len(Kkma.nouns(reviews.loc[0,\"내용\"])))"
   ]
  },
  {
   "cell_type": "code",
   "execution_count": 11,
   "metadata": {},
   "outputs": [],
   "source": [
    "# max_len = []\n",
    "# for i in range(len(reviews)):\n",
    "#     try:\n",
    "#         max_len.append(len(Kkma.nouns(reviews.loc[i,\"내용\"])))\n",
    "#     except:\n",
    "#         print(i)\n",
    "#         break\n",
    "# len(max_len)"
   ]
  },
  {
   "cell_type": "code",
   "execution_count": 15,
   "metadata": {},
   "outputs": [],
   "source": [
    "import time"
   ]
  },
  {
   "cell_type": "code",
   "execution_count": 20,
   "metadata": {},
   "outputs": [],
   "source": [
    "t_seconds = 10\n",
    "while (t_seconds > 0):\n",
    "    time.sleep(1)\n",
    "    t_seconds = t_seconds - 1"
   ]
  },
  {
   "cell_type": "code",
   "execution_count": null,
   "metadata": {},
   "outputs": [],
   "source": [
    "# 시간이 지난 후 스레드 종료하기(원하는곳에서 종료가능)\n",
    "import threading\n",
    "import time\n",
    "from apscheduler.schedulers.background import BackgroundScheduler\n",
    "\n",
    "\n",
    "def start():\n",
    "    print(\"start\")\n",
    "    t = threading.Thread(target=run, args=(\"run함수\",))\n",
    "    t.start()\n",
    "    return t\n",
    "\n",
    "\n",
    "def run(arg):\n",
    "    print(\"run\")\n",
    "    t = threading.currentThread()\n",
    "    while getattr(t, 'do_run', True):  # do_run 값이 정의되지 않는 경우 True 반환\n",
    "        print(\"%s 작동중~~\" % arg)\n",
    "        time.sleep(1)\n",
    "\n",
    "\n",
    "def stop(t):\n",
    "    t.do_run = False\n",
    "    t.join()\n",
    "    print(\"stop\")\n",
    "    sched.remove_job('job1')\n",
    "\n",
    "\n",
    "sched = BackgroundScheduler()\n",
    "sched.start()\n",
    "\n",
    "t = start()\n",
    "sched.add_job(stop, 'interval', seconds=5, args=(t,), id='job1')\n",
    "\n",
    "while True:\n",
    "    print('메인 스레드 도는 중...')\n",
    "    time.sleep(1)"
   ]
  },
  {
   "cell_type": "code",
   "execution_count": 12,
   "metadata": {},
   "outputs": [
    {
     "ename": "java.lang.OutOfMemoryError",
     "evalue": "java.lang.OutOfMemoryError: Java heap space",
     "output_type": "error",
     "traceback": [
      "\u001b[1;31m---------------------------------------------------------------------------\u001b[0m",
      "\u001b[1;31mException\u001b[0m                                 Traceback (most recent call last)",
      "File \u001b[1;32mkr.lucypark.kkma.KkmaInterface.java:-1\u001b[0m, in \u001b[0;36mkr.lucypark.kkma.KkmaInterface.extractNoun\u001b[1;34m()\u001b[0m\n",
      "File \u001b[1;32mKeywordExtractor.java:127\u001b[0m, in \u001b[0;36morg.snu.ids.ha.index.KeywordExtractor.extractKeyword\u001b[1;34m()\u001b[0m\n",
      "File \u001b[1;32mMorphemeAnalyzer.java:79\u001b[0m, in \u001b[0;36morg.snu.ids.ha.ma.MorphemeAnalyzer.analyze\u001b[1;34m()\u001b[0m\n",
      "File \u001b[1;32mMorphemeAnalyzer.java:147\u001b[0m, in \u001b[0;36morg.snu.ids.ha.ma.MorphemeAnalyzer.analyze\u001b[1;34m()\u001b[0m\n",
      "File \u001b[1;32mStringBuilder.java:173\u001b[0m, in \u001b[0;36mjava.lang.StringBuilder.append\u001b[1;34m()\u001b[0m\n",
      "File \u001b[1;32mString.java:2951\u001b[0m, in \u001b[0;36mjava.lang.String.valueOf\u001b[1;34m()\u001b[0m\n",
      "File \u001b[1;32mMExpression.java:170\u001b[0m, in \u001b[0;36morg.snu.ids.ha.ma.MExpression.toString\u001b[1;34m()\u001b[0m\n",
      "File \u001b[1;32mStringBuffer.java:317\u001b[0m, in \u001b[0;36mjava.lang.StringBuffer.append\u001b[1;34m()\u001b[0m\n",
      "File \u001b[1;32mAbstractStringBuilder.java:538\u001b[0m, in \u001b[0;36mjava.lang.AbstractStringBuilder.append\u001b[1;34m()\u001b[0m\n",
      "File \u001b[1;32mAbstractStringBuilder.java:172\u001b[0m, in \u001b[0;36mjava.lang.AbstractStringBuilder.ensureCapacityInternal\u001b[1;34m()\u001b[0m\n",
      "File \u001b[1;32mArrays.java:3745\u001b[0m, in \u001b[0;36mjava.util.Arrays.copyOf\u001b[1;34m()\u001b[0m\n",
      "\u001b[1;31mException\u001b[0m: Java Exception",
      "\nThe above exception was the direct cause of the following exception:\n",
      "\u001b[1;31mjava.lang.OutOfMemoryError\u001b[0m                Traceback (most recent call last)",
      "\u001b[1;32mc:\\Users\\khdo\\Documents\\korean_movie\\miracle_in_cell_no_7_nlp.ipynb 셀 13\u001b[0m in \u001b[0;36m<cell line: 1>\u001b[1;34m()\u001b[0m\n\u001b[1;32m----> <a href='vscode-notebook-cell:/c%3A/Users/khdo/Documents/korean_movie/miracle_in_cell_no_7_nlp.ipynb#X12sZmlsZQ%3D%3D?line=0'>1</a>\u001b[0m Kkma\u001b[39m.\u001b[39;49mnouns(reviews\u001b[39m.\u001b[39;49mloc[\u001b[39m6174\u001b[39;49m,\u001b[39m\"\u001b[39;49m\u001b[39m내용\u001b[39;49m\u001b[39m\"\u001b[39;49m])\n",
      "File \u001b[1;32mc:\\Users\\khdo\\Anaconda3\\envs\\PythonBase\\lib\\site-packages\\konlpy\\tag\\_kkma.py:54\u001b[0m, in \u001b[0;36mKkma.nouns\u001b[1;34m(self, phrase)\u001b[0m\n\u001b[0;32m     51\u001b[0m \u001b[39mdef\u001b[39;00m \u001b[39mnouns\u001b[39m(\u001b[39mself\u001b[39m, phrase):\n\u001b[0;32m     52\u001b[0m     \u001b[39m\"\"\"Noun extractor.\"\"\"\u001b[39;00m\n\u001b[1;32m---> 54\u001b[0m     nouns \u001b[39m=\u001b[39m \u001b[39mself\u001b[39;49m\u001b[39m.\u001b[39;49mjki\u001b[39m.\u001b[39;49mextractNoun(phrase)\n\u001b[0;32m     55\u001b[0m     \u001b[39mif\u001b[39;00m \u001b[39mnot\u001b[39;00m nouns: \u001b[39mreturn\u001b[39;00m []\n\u001b[0;32m     56\u001b[0m     \u001b[39mreturn\u001b[39;00m [nouns\u001b[39m.\u001b[39mget(i)\u001b[39m.\u001b[39mgetString() \u001b[39mfor\u001b[39;00m i \u001b[39min\u001b[39;00m \u001b[39mrange\u001b[39m(nouns\u001b[39m.\u001b[39msize())]\n",
      "\u001b[1;31mjava.lang.OutOfMemoryError\u001b[0m: java.lang.OutOfMemoryError: Java heap space"
     ]
    }
   ],
   "source": [
    "start_time = time.time()\n",
    "Kkma.nouns(reviews.loc[6174,\"내용\"])\n",
    "if time."
   ]
  },
  {
   "cell_type": "code",
   "execution_count": 14,
   "metadata": {},
   "outputs": [
    {
     "data": {
      "text/plain": [
       "'욕을  할래야 할수가 없는  영화잖아 ㅠㅠ'"
      ]
     },
     "execution_count": 14,
     "metadata": {},
     "output_type": "execute_result"
    }
   ],
   "source": [
    "reviews.loc[,\"내용\"]"
   ]
  }
 ],
 "metadata": {
  "kernelspec": {
   "display_name": "Python 3.9.12 ('PythonBase')",
   "language": "python",
   "name": "python3"
  },
  "language_info": {
   "codemirror_mode": {
    "name": "ipython",
    "version": 3
   },
   "file_extension": ".py",
   "mimetype": "text/x-python",
   "name": "python",
   "nbconvert_exporter": "python",
   "pygments_lexer": "ipython3",
   "version": "3.9.12"
  },
  "orig_nbformat": 4,
  "vscode": {
   "interpreter": {
    "hash": "ca6d4ad439febf6877c498a04ff333ccbf58ec4fc9843407e6c552f7ded7575f"
   }
  }
 },
 "nbformat": 4,
 "nbformat_minor": 2
}
