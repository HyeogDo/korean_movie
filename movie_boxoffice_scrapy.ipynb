{
 "cells": [
  {
   "cell_type": "markdown",
   "metadata": {},
   "source": [
    "# 영화 진흥위원회 연도별 박스오피스 (2010~2019) 엑셀 파일 Scrapy\n",
    "- https://www.kobis.or.kr/kobis/business/stat/boxs/findYearlyBoxOfficeList.do"
   ]
  },
  {
   "cell_type": "markdown",
   "metadata": {},
   "source": [
    "### 필요 모듈 불러오기"
   ]
  },
  {
   "cell_type": "code",
   "execution_count": 1,
   "metadata": {},
   "outputs": [],
   "source": [
    "from selenium import webdriver\n",
    "from selenium.webdriver.chrome.service import Service\n",
    "from webdriver_manager.chrome import ChromeDriverManager\n",
    "from selenium.webdriver.common.by import By\n",
    "from selenium.webdriver.common.alert import Alert\n",
    "from selenium.webdriver.chrome.options import Options\n",
    "import pandas as pd\n",
    "import os\n",
    "import numpy as np\n",
    "import time"
   ]
  },
  {
   "cell_type": "code",
   "execution_count": 2,
   "metadata": {},
   "outputs": [],
   "source": [
    "# Chrome Browser와 Chrome Driver Version 확인하기\n",
    "op = Options()\n",
    "op.add_experimental_option(\"prefs\",{\"download.default_directory\":r\"C:\\Users\\khdo\\Documents\\korean_movie\\data\"})\n",
    "# chrome_options = webdriver.ChromeOptions()\n",
    "# selenium ver 4를 사용시 아래코드, 현재 selenium ver은 3으로 본 코드를 사용한다\n",
    "# driver = webdriver.Chrome(service=Service(ChromeDriverManager().install()), options=chrome_options)\n",
    "driver = webdriver.Chrome(ChromeDriverManager().install(), options=op)\n",
    "driver.get(\"https://www.kobis.or.kr/kobis/business/stat/boxs/findYearlyBoxOfficeList.do\")"
   ]
  },
  {
   "cell_type": "code",
   "execution_count": 3,
   "metadata": {},
   "outputs": [],
   "source": [
    "# 다운받을 년도 설정\n",
    "years = np.arange(2010,2020,dtype=int)"
   ]
  },
  {
   "cell_type": "code",
   "execution_count": 5,
   "metadata": {},
   "outputs": [
    {
     "name": "stdout",
     "output_type": "stream",
     "text": [
      "2010 clear\n",
      "2011 clear\n",
      "2012 clear\n",
      "2013 clear\n",
      "2014 clear\n",
      "2015 clear\n",
      "2016 clear\n",
      "2017 clear\n",
      "2018 clear\n",
      "2019 clear\n"
     ]
    }
   ],
   "source": [
    "for year in years:\n",
    "    # 년도 설정\n",
    "    year_elements = driver.find_element(By.XPATH, '//*[@id=\"sSearchYearFrom\"]')\n",
    "    year_elements.send_keys(f\"{year}\")\n",
    "\n",
    "    # 영화 타입 설정\n",
    "    type_elements = driver.find_element(By.XPATH, '//*[@id=\"sMultiMovieYn\"]')\n",
    "    type_elements.send_keys(\"일반영화\")\n",
    "\n",
    "    # 영화 국가 설정\n",
    "    nation_elements = driver.find_element(By.XPATH, '//*[@id=\"sRepNationCd\"]')\n",
    "    nation_elements.send_keys(\"한국\")\n",
    "\n",
    "    # 검색 버튼 클릭\n",
    "    find_btn = driver.find_element(By.XPATH, '//*[@id=\"searchForm\"]/div/div[5]/button')\n",
    "    find_btn.click()\n",
    "\n",
    "    # 엑셀 다운로드 버튼 클릭\n",
    "    excel_btn = driver.find_element(By.XPATH, '//*[@id=\"content\"]/div[3]/div/a')\n",
    "    excel_btn.click()\n",
    "\n",
    "    # 용량이 큰 엑셀 파일을 받는 경우 알림이 뜨므로 확인 버튼 클릭\n",
    "    alert_btn = Alert(driver)\n",
    "    alert_btn.accept()\n",
    "\n",
    "    # 파일 다운받는 시간이 조금 걸리므로 그 시간만큼의 딜레이가 필요\n",
    "    time.sleep(5)\n",
    "    \n",
    "    # KOBIS_연도별박스오피스_2022-09-01.xls 파일명 뒤의 날짜는 당일 날짜\n",
    "    # 폴더에 다운 받은 같은 이름의 파일이 존재할 경우 에러 뜨므로 파일 삭제 후 재가동 필요\n",
    "    # 다운받은 파일의 이름 재설정\n",
    "    # 기존 xls로 받은 경우 실제로 파일 실행시 파일 확장자가 웹페이지(html)로 되어있기에 pandas로 정상적으로 불러오기 위해서는 html로 확장자 변경이 필요\n",
    "    old_name = \"C:/Users/khdo/Documents/korean_movie/data/KOBIS_연도별박스오피스_2022-09-04.xls\"\n",
    "    new_name = f\"C:/Users/khdo/Documents/korean_movie/data/boxoffice_{year}.html\"\n",
    "    os.rename(old_name, new_name)\n",
    "\n",
    "    print(f\"{year} clear\")"
   ]
  },
  {
   "cell_type": "code",
   "execution_count": null,
   "metadata": {},
   "outputs": [],
   "source": []
  },
  {
   "cell_type": "code",
   "execution_count": null,
   "metadata": {},
   "outputs": [],
   "source": []
  },
  {
   "cell_type": "code",
   "execution_count": null,
   "metadata": {},
   "outputs": [],
   "source": []
  },
  {
   "cell_type": "code",
   "execution_count": null,
   "metadata": {},
   "outputs": [],
   "source": []
  }
 ],
 "metadata": {
  "kernelspec": {
   "display_name": "Python 3.9.12 ('PythonBase')",
   "language": "python",
   "name": "python3"
  },
  "language_info": {
   "codemirror_mode": {
    "name": "ipython",
    "version": 3
   },
   "file_extension": ".py",
   "mimetype": "text/x-python",
   "name": "python",
   "nbconvert_exporter": "python",
   "pygments_lexer": "ipython3",
   "version": "3.9.12"
  },
  "orig_nbformat": 4,
  "vscode": {
   "interpreter": {
    "hash": "ca6d4ad439febf6877c498a04ff333ccbf58ec4fc9843407e6c552f7ded7575f"
   }
  }
 },
 "nbformat": 4,
 "nbformat_minor": 2
}
